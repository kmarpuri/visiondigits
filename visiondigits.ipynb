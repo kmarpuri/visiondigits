{
 "cells": [
  {
   "cell_type": "code",
   "id": "initial_id",
   "metadata": {
    "collapsed": true,
    "ExecuteTime": {
     "end_time": "2025-09-19T16:04:24.626667Z",
     "start_time": "2025-09-19T16:04:24.000937Z"
    }
   },
   "source": [
    "import torch\n",
    "import torch.nn.functional as F\n",
    "import torch.nn as nn\n",
    "import matplotlib.pyplot as plt\n",
    "import idx2numpy as idx\n",
    "%matplotlib inline"
   ],
   "outputs": [],
   "execution_count": 1
  },
  {
   "metadata": {
    "ExecuteTime": {
     "end_time": "2025-09-19T16:04:24.644471Z",
     "start_time": "2025-09-19T16:04:24.629355Z"
    }
   },
   "cell_type": "code",
   "source": [
    "train_images = idx.convert_from_file(\"./data/train-images-ubyte\")\n",
    "train_labels = idx.convert_from_file(\"./data/train-labels-ubyte\")\n",
    "test_images = idx.convert_from_file(\"./data/test-images-ubyte\")\n",
    "test_labels = idx.convert_from_file(\"./data/test-labels-ubyte\")\n",
    "row_size, col_size = 28, 28"
   ],
   "id": "e3d0cd23b3b64259",
   "outputs": [],
   "execution_count": 2
  },
  {
   "metadata": {
    "ExecuteTime": {
     "end_time": "2025-09-19T16:04:24.651219Z",
     "start_time": "2025-09-19T16:04:24.649224Z"
    }
   },
   "cell_type": "code",
   "source": [
    "num_dev = 10000\n",
    "perm = torch.randperm(len(train_images))\n",
    "train_idx = perm[num_dev:]\n",
    "dev_idx = perm[:num_dev]"
   ],
   "id": "7f808098e8b67122",
   "outputs": [],
   "execution_count": 3
  },
  {
   "metadata": {
    "ExecuteTime": {
     "end_time": "2025-09-19T16:04:24.655941Z",
     "start_time": "2025-09-19T16:04:24.654412Z"
    }
   },
   "cell_type": "code",
   "source": [
    "def build_xy(image, label):\n",
    "    return torch.tensor(image).float() / 255.0, torch.tensor(label).long()\n",
    "\n",
    "def data_nll(X, Y, model):\n",
    "    with torch.no_grad():\n",
    "        logits = model(X)\n",
    "        loss = F.cross_entropy(logits, Y)\n",
    "        return loss.item()\n"
   ],
   "id": "bdb4053a8aea4d41",
   "outputs": [],
   "execution_count": 4
  },
  {
   "metadata": {
    "ExecuteTime": {
     "end_time": "2025-09-19T16:04:24.772258Z",
     "start_time": "2025-09-19T16:04:24.733346Z"
    }
   },
   "cell_type": "code",
   "source": [
    "X, Y = build_xy(train_images, train_labels)\n",
    "Xtr, Ytr = X[train_idx], Y[train_idx]\n",
    "Xdev, Ydev = X[dev_idx], Y[dev_idx]\n",
    "Xte, Yte = build_xy(test_images, test_labels)"
   ],
   "id": "aafb3e5cf5801f5",
   "outputs": [],
   "execution_count": 5
  },
  {
   "metadata": {
    "ExecuteTime": {
     "end_time": "2025-09-19T16:04:24.973029Z",
     "start_time": "2025-09-19T16:04:24.968552Z"
    }
   },
   "cell_type": "code",
   "source": [
    "n_hidden = 64\n",
    "\n",
    "model = nn.Sequential(\n",
    "    nn.Flatten(),\n",
    "    nn.Linear(row_size * col_size, n_hidden), nn.BatchNorm1d(n_hidden), nn.ReLU6(),\n",
    "    nn.Linear(n_hidden, n_hidden), nn.BatchNorm1d(n_hidden), nn.ReLU6(),\n",
    "    nn.Linear(n_hidden, n_hidden), nn.BatchNorm1d(n_hidden), nn.ReLU6(),\n",
    "    nn.Linear(n_hidden, 10)\n",
    ")\n",
    "\n",
    "with torch.no_grad():\n",
    "    model[-1].weight *= 0.1\n",
    "\n",
    "print(sum(p.numel() for p in model.parameters()))\n",
    "\n",
    "for p in model.parameters():\n",
    "    p.requires_grad = True"
   ],
   "id": "6ca221bb883edfac",
   "outputs": [
    {
     "name": "stdout",
     "output_type": "stream",
     "text": [
      "59594\n"
     ]
    }
   ],
   "execution_count": 6
  },
  {
   "metadata": {
    "ExecuteTime": {
     "end_time": "2025-09-19T16:04:25.288366Z",
     "start_time": "2025-09-19T16:04:25.286141Z"
    }
   },
   "cell_type": "code",
   "source": "lossi = []",
   "id": "e92deb091a782b90",
   "outputs": [],
   "execution_count": 7
  },
  {
   "metadata": {
    "ExecuteTime": {
     "end_time": "2025-09-19T16:08:20.727397Z",
     "start_time": "2025-09-19T16:04:26.303441Z"
    }
   },
   "cell_type": "code",
   "source": [
    "steps = 200000\n",
    "batch_size = 32\n",
    "\n",
    "for i in range(steps):\n",
    "    ix = torch.randint(0, Xtr.shape[0], (batch_size,))\n",
    "    Xb, Yb = Xtr[ix], Ytr[ix]\n",
    "\n",
    "    loss = F.cross_entropy(model(Xb), Yb)\n",
    "\n",
    "    for p in model.parameters():\n",
    "        p.grad = None\n",
    "    loss.backward()\n",
    "\n",
    "    lr = 0.1 if i < 50000 else 0.01 if i < 100000 else 0.001\n",
    "    for p in model.parameters():\n",
    "        p.data -= lr * p.grad\n",
    "\n",
    "    lossi.append(loss.item())\n",
    "    if i % 1000 == 0:\n",
    "        print(i, loss.item())"
   ],
   "id": "53bce6f45ed89c18",
   "outputs": [
    {
     "name": "stdout",
     "output_type": "stream",
     "text": [
      "0 2.299008369445801\n",
      "1000 0.14938269555568695\n",
      "2000 0.032520588487386703\n",
      "3000 0.04561202600598335\n",
      "4000 0.0941396951675415\n",
      "5000 0.032796505838632584\n",
      "6000 0.0055486285127699375\n",
      "7000 0.08313173800706863\n",
      "8000 0.025161128491163254\n",
      "9000 0.3575381934642792\n",
      "10000 0.015770431607961655\n",
      "11000 0.0039849854074418545\n",
      "12000 0.17316071689128876\n",
      "13000 0.037717923521995544\n",
      "14000 0.0010344423353672028\n",
      "15000 0.1056719571352005\n",
      "16000 0.06443079560995102\n",
      "17000 0.22206167876720428\n",
      "18000 0.013545624911785126\n",
      "19000 0.07084114104509354\n",
      "20000 0.012266072444617748\n",
      "21000 0.015771599486470222\n",
      "22000 0.002399337012320757\n",
      "23000 0.009706523269414902\n",
      "24000 0.014644663780927658\n",
      "25000 0.013927132822573185\n",
      "26000 0.12388549000024796\n",
      "27000 0.004117385018616915\n",
      "28000 0.015960007905960083\n",
      "29000 0.0457603819668293\n",
      "30000 0.08221123367547989\n",
      "31000 0.005099609028548002\n",
      "32000 0.003175967140123248\n",
      "33000 0.005608187988400459\n",
      "34000 0.0010927000548690557\n",
      "35000 0.002906235633417964\n",
      "36000 0.007796674966812134\n",
      "37000 0.015034054405987263\n",
      "38000 0.006724943872541189\n",
      "39000 0.15529651939868927\n",
      "40000 0.005282266065478325\n",
      "41000 0.012860237620770931\n",
      "42000 0.001039988943375647\n",
      "43000 0.0022425528150051832\n",
      "44000 0.09489834308624268\n",
      "45000 0.002759144874289632\n",
      "46000 0.007784174755215645\n",
      "47000 0.0039971922524273396\n",
      "48000 0.005137397442013025\n",
      "49000 0.006395661272108555\n",
      "50000 0.11383000761270523\n",
      "51000 0.053798578679561615\n",
      "52000 0.014904825948178768\n",
      "53000 0.001974700251594186\n",
      "54000 5.9344343753764406e-05\n",
      "55000 0.0025227945297956467\n",
      "56000 0.0013493138831108809\n",
      "57000 0.0005165192415006459\n",
      "58000 0.0008957695099525154\n",
      "59000 0.07415838539600372\n",
      "60000 0.0002666186774149537\n",
      "61000 0.00047263625310733914\n",
      "62000 0.001771170413121581\n",
      "63000 0.004433780442923307\n",
      "64000 0.00557922525331378\n",
      "65000 0.03850900009274483\n",
      "66000 0.0007463323418051004\n",
      "67000 0.0023204092867672443\n",
      "68000 0.0023705828934907913\n",
      "69000 0.018859557807445526\n",
      "70000 0.0011193407699465752\n",
      "71000 0.004116058349609375\n",
      "72000 0.003303713398054242\n",
      "73000 0.00023895832418929785\n",
      "74000 0.019868331030011177\n",
      "75000 0.0001953661412699148\n",
      "76000 0.0009630071581341326\n",
      "77000 0.0010193571215495467\n",
      "78000 0.0003724088310264051\n",
      "79000 0.00608647707849741\n",
      "80000 0.0004446006496436894\n",
      "81000 0.02662419155240059\n",
      "82000 0.0019010629039257765\n",
      "83000 0.001408664626069367\n",
      "84000 0.026426145806908607\n",
      "85000 0.0008281138725578785\n",
      "86000 0.003361253533512354\n",
      "87000 0.0006787583115510643\n",
      "88000 0.04108770936727524\n",
      "89000 0.0007872602436691523\n",
      "90000 0.013080963864922523\n",
      "91000 0.0022205065470188856\n",
      "92000 0.007419026456773281\n",
      "93000 0.016855936497449875\n",
      "94000 0.0019610754679888487\n",
      "95000 0.0017199126305058599\n",
      "96000 0.000301038206089288\n",
      "97000 0.0626622810959816\n",
      "98000 0.0005218653823249042\n",
      "99000 0.0035339281894266605\n",
      "100000 7.069925777614117e-05\n",
      "101000 0.0016474956646561623\n",
      "102000 0.00021562800975516438\n",
      "103000 0.018989065662026405\n",
      "104000 0.0004404987848829478\n",
      "105000 0.0029838706832379103\n",
      "106000 0.00017254051635973155\n",
      "107000 0.0007937978953123093\n",
      "108000 0.003003667574375868\n",
      "109000 0.013178601861000061\n",
      "110000 0.0013278051046654582\n",
      "111000 0.06046805530786514\n",
      "112000 0.013148759491741657\n",
      "113000 0.00595083786174655\n",
      "114000 0.0003646280674729496\n",
      "115000 0.001958509674295783\n",
      "116000 0.00042321908404119313\n",
      "117000 0.0005216505378484726\n",
      "118000 0.0005235428689047694\n",
      "119000 0.001128996373154223\n",
      "120000 0.017645815387368202\n",
      "121000 0.001797324512153864\n",
      "122000 0.0028019784949719906\n",
      "123000 0.000346985412761569\n",
      "124000 0.00015632234863005579\n",
      "125000 0.004945734515786171\n",
      "126000 0.002890610136091709\n",
      "127000 0.005109813064336777\n",
      "128000 0.0011557568795979023\n",
      "129000 0.001249979017302394\n",
      "130000 0.009908170439302921\n",
      "131000 0.001374127110466361\n",
      "132000 8.577871631132439e-05\n",
      "133000 0.016359232366085052\n",
      "134000 0.013814235106110573\n",
      "135000 0.0015179504407569766\n",
      "136000 0.03853512555360794\n",
      "137000 0.00021345184359233826\n",
      "138000 0.0006166996317915618\n",
      "139000 0.002009804593399167\n",
      "140000 0.00118924374692142\n",
      "141000 0.0001336385030299425\n",
      "142000 0.015577045269310474\n",
      "143000 0.0006266306154429913\n",
      "144000 0.0002079964615404606\n",
      "145000 6.484768528025597e-05\n",
      "146000 0.00011219049338251352\n",
      "147000 0.00132548448164016\n",
      "148000 0.00019650744798127562\n",
      "149000 0.00015322536637540907\n",
      "150000 0.054619427770376205\n",
      "151000 0.002327388385310769\n",
      "152000 0.0005021418328396976\n",
      "153000 0.0003956176224164665\n",
      "154000 0.03833094239234924\n",
      "155000 0.035959530621767044\n",
      "156000 0.0033112673554569483\n",
      "157000 0.010778984054923058\n",
      "158000 0.00654746126383543\n",
      "159000 0.007940687239170074\n",
      "160000 0.0004200350376777351\n",
      "161000 0.006770350504666567\n",
      "162000 0.0009371702908538282\n",
      "163000 0.005077267065644264\n",
      "164000 0.008841536939144135\n",
      "165000 0.00358960940502584\n",
      "166000 0.002979769604280591\n",
      "167000 0.020772473886609077\n",
      "168000 0.0014563462464138865\n",
      "169000 0.006884492002427578\n",
      "170000 9.140484326053411e-05\n",
      "171000 0.07308612763881683\n",
      "172000 0.01627124287188053\n",
      "173000 0.0002693826099857688\n",
      "174000 0.0011353001464158297\n",
      "175000 0.0005352557054720819\n",
      "176000 0.000777021108660847\n",
      "177000 0.0009358095121569932\n",
      "178000 0.023024743422865868\n",
      "179000 0.002933003706857562\n",
      "180000 0.0021858494728803635\n",
      "181000 0.003656320506706834\n",
      "182000 0.0010070700664073229\n",
      "183000 3.11554285872262e-05\n",
      "184000 0.0004564280970953405\n",
      "185000 0.00026552926283329725\n",
      "186000 0.00047932693269103765\n",
      "187000 0.00032408995321020484\n",
      "188000 0.0004065966641064733\n",
      "189000 0.0012086548376828432\n",
      "190000 0.0015503533650189638\n",
      "191000 0.013364521786570549\n",
      "192000 0.004217280074954033\n",
      "193000 0.0006661530351266265\n",
      "194000 0.003218713914975524\n",
      "195000 0.0010866555385291576\n",
      "196000 0.00011800324136856943\n",
      "197000 0.004704569932073355\n",
      "198000 0.002218137728050351\n",
      "199000 0.00013090278662275523\n"
     ]
    }
   ],
   "execution_count": 8
  },
  {
   "metadata": {
    "ExecuteTime": {
     "end_time": "2025-09-19T16:08:20.819557Z",
     "start_time": "2025-09-19T16:08:20.734884Z"
    }
   },
   "cell_type": "code",
   "source": "plt.plot(torch.tensor(lossi).view(-1, 1).mean(1))",
   "id": "4826bd0066dba5dc",
   "outputs": [
    {
     "data": {
      "text/plain": [
       "[<matplotlib.lines.Line2D at 0x11036a990>]"
      ]
     },
     "execution_count": 9,
     "metadata": {},
     "output_type": "execute_result"
    },
    {
     "data": {
      "text/plain": [
       "<Figure size 640x480 with 1 Axes>"
      ],
      "image/png": "[encoded data removed]"
     },
     "metadata": {},
     "output_type": "display_data",
     "jetTransient": {
      "display_id": null
     }
    }
   ],
   "execution_count": 9
  },
  {
   "metadata": {
    "ExecuteTime": {
     "end_time": "2025-09-19T16:08:20.845225Z",
     "start_time": "2025-09-19T16:08:20.828107Z"
    }
   },
   "cell_type": "code",
   "source": [
    "for layer in model:\n",
    "    if isinstance(layer, nn.BatchNorm1d):\n",
    "        layer.training = False\n",
    "\n",
    "print(data_nll(Xtr, Ytr, model))\n",
    "print(data_nll(Xdev, Ydev, model))"
   ],
   "id": "499c667d2e2d2c92",
   "outputs": [
    {
     "name": "stdout",
     "output_type": "stream",
     "text": [
      "0.0005637746653519571\n",
      "0.07446147501468658\n"
     ]
    }
   ],
   "execution_count": 10
  },
  {
   "metadata": {
    "ExecuteTime": {
     "end_time": "2025-09-19T16:08:54.304030Z",
     "start_time": "2025-09-19T16:08:54.301379Z"
    }
   },
   "cell_type": "code",
   "source": [
    "def predict(model, X, Y, wrong):\n",
    "    model.eval()\n",
    "    with torch.no_grad():\n",
    "        logits = model(X)\n",
    "        pred = logits.argmax(dim=1)\n",
    "        for i in range(X.size(0)):\n",
    "            if pred[i].item() != Y[i].item():\n",
    "                wrong.append(i)"
   ],
   "id": "e448f44ba1f06d55",
   "outputs": [],
   "execution_count": 11
  },
  {
   "metadata": {
    "ExecuteTime": {
     "end_time": "2025-09-19T16:08:55.480559Z",
     "start_time": "2025-09-19T16:08:55.459163Z"
    }
   },
   "cell_type": "code",
   "source": [
    "wrong = []\n",
    "predict(model, Xte, Yte, wrong)\n",
    "print(len(wrong))"
   ],
   "id": "9336459a4854e18f",
   "outputs": [
    {
     "data": {
      "text/plain": [
       "183"
      ]
     },
     "execution_count": 12,
     "metadata": {},
     "output_type": "execute_result"
    }
   ],
   "execution_count": 12
  },
  {
   "metadata": {
    "ExecuteTime": {
     "end_time": "2025-09-19T16:08:58.688956Z",
     "start_time": "2025-09-19T16:08:58.685845Z"
    }
   },
   "cell_type": "code",
   "source": [
    "def predict_wrong(model, X, wrong):\n",
    "    model.eval()\n",
    "    with torch.no_grad():\n",
    "        logits = model(X)\n",
    "        pred = logits.argmax(dim=1)\n",
    "        for i in wrong:\n",
    "            print(f'prediction = {pred[i].item()}')"
   ],
   "id": "f6d1cdd8cf88f66",
   "outputs": [],
   "execution_count": 13
  },
  {
   "metadata": {
    "ExecuteTime": {
     "end_time": "2025-09-19T16:09:01.087456Z",
     "start_time": "2025-09-19T16:09:01.080092Z"
    }
   },
   "cell_type": "code",
   "source": "predict_wrong(model, Xte, wrong)",
   "id": "d73efe6d003150ee",
   "outputs": [
    {
     "name": "stdout",
     "output_type": "stream",
     "text": [
      "prediction = 9\n",
      "prediction = 6\n",
      "prediction = 7\n",
      "prediction = 3\n",
      "prediction = 0\n",
      "prediction = 0\n",
      "prediction = 2\n",
      "prediction = 6\n",
      "prediction = 1\n",
      "prediction = 3\n",
      "prediction = 8\n",
      "prediction = 9\n",
      "prediction = 2\n",
      "prediction = 6\n",
      "prediction = 5\n",
      "prediction = 5\n",
      "prediction = 9\n",
      "prediction = 5\n",
      "prediction = 2\n",
      "prediction = 4\n",
      "prediction = 6\n",
      "prediction = 5\n",
      "prediction = 5\n",
      "prediction = 2\n",
      "prediction = 4\n",
      "prediction = 9\n",
      "prediction = 3\n",
      "prediction = 3\n",
      "prediction = 9\n",
      "prediction = 3\n",
      "prediction = 8\n",
      "prediction = 0\n",
      "prediction = 9\n",
      "prediction = 5\n",
      "prediction = 5\n",
      "prediction = 6\n",
      "prediction = 3\n",
      "prediction = 9\n",
      "prediction = 3\n",
      "prediction = 6\n",
      "prediction = 7\n",
      "prediction = 6\n",
      "prediction = 8\n",
      "prediction = 3\n",
      "prediction = 3\n",
      "prediction = 4\n",
      "prediction = 2\n",
      "prediction = 2\n",
      "prediction = 5\n",
      "prediction = 9\n",
      "prediction = 3\n",
      "prediction = 4\n",
      "prediction = 8\n",
      "prediction = 9\n",
      "prediction = 9\n",
      "prediction = 8\n",
      "prediction = 0\n",
      "prediction = 9\n",
      "prediction = 1\n",
      "prediction = 3\n",
      "prediction = 0\n",
      "prediction = 5\n",
      "prediction = 0\n",
      "prediction = 8\n",
      "prediction = 8\n",
      "prediction = 1\n",
      "prediction = 3\n",
      "prediction = 0\n",
      "prediction = 4\n",
      "prediction = 3\n",
      "prediction = 2\n",
      "prediction = 0\n",
      "prediction = 1\n",
      "prediction = 0\n",
      "prediction = 9\n",
      "prediction = 7\n",
      "prediction = 5\n",
      "prediction = 8\n",
      "prediction = 2\n",
      "prediction = 9\n",
      "prediction = 3\n",
      "prediction = 9\n",
      "prediction = 0\n",
      "prediction = 8\n",
      "prediction = 3\n",
      "prediction = 4\n",
      "prediction = 1\n",
      "prediction = 4\n",
      "prediction = 8\n",
      "prediction = 5\n",
      "prediction = 3\n",
      "prediction = 9\n",
      "prediction = 4\n",
      "prediction = 2\n",
      "prediction = 3\n",
      "prediction = 8\n",
      "prediction = 6\n",
      "prediction = 8\n",
      "prediction = 4\n",
      "prediction = 2\n",
      "prediction = 2\n",
      "prediction = 6\n",
      "prediction = 3\n",
      "prediction = 5\n",
      "prediction = 4\n",
      "prediction = 1\n",
      "prediction = 3\n",
      "prediction = 8\n",
      "prediction = 9\n",
      "prediction = 7\n",
      "prediction = 8\n",
      "prediction = 5\n",
      "prediction = 8\n",
      "prediction = 4\n",
      "prediction = 4\n",
      "prediction = 2\n",
      "prediction = 7\n",
      "prediction = 3\n",
      "prediction = 7\n",
      "prediction = 8\n",
      "prediction = 5\n",
      "prediction = 8\n",
      "prediction = 5\n",
      "prediction = 2\n",
      "prediction = 6\n",
      "prediction = 3\n",
      "prediction = 4\n",
      "prediction = 4\n",
      "prediction = 9\n",
      "prediction = 6\n",
      "prediction = 8\n",
      "prediction = 8\n",
      "prediction = 6\n",
      "prediction = 8\n",
      "prediction = 8\n",
      "prediction = 3\n",
      "prediction = 7\n",
      "prediction = 2\n",
      "prediction = 7\n",
      "prediction = 0\n",
      "prediction = 9\n",
      "prediction = 3\n",
      "prediction = 9\n",
      "prediction = 8\n",
      "prediction = 9\n",
      "prediction = 0\n",
      "prediction = 7\n",
      "prediction = 7\n",
      "prediction = 7\n",
      "prediction = 7\n",
      "prediction = 4\n",
      "prediction = 5\n",
      "prediction = 5\n",
      "prediction = 9\n",
      "prediction = 6\n",
      "prediction = 3\n",
      "prediction = 2\n",
      "prediction = 6\n",
      "prediction = 8\n",
      "prediction = 8\n",
      "prediction = 9\n",
      "prediction = 4\n",
      "prediction = 6\n",
      "prediction = 2\n",
      "prediction = 8\n",
      "prediction = 3\n",
      "prediction = 2\n",
      "prediction = 5\n",
      "prediction = 2\n",
      "prediction = 3\n",
      "prediction = 8\n",
      "prediction = 4\n",
      "prediction = 7\n",
      "prediction = 7\n",
      "prediction = 2\n",
      "prediction = 5\n",
      "prediction = 6\n",
      "prediction = 6\n",
      "prediction = 6\n",
      "prediction = 5\n",
      "prediction = 0\n",
      "prediction = 0\n",
      "prediction = 5\n"
     ]
    }
   ],
   "execution_count": 14
  },
  {
   "metadata": {
    "ExecuteTime": {
     "end_time": "2025-09-19T16:09:04.390809Z",
     "start_time": "2025-09-19T16:09:04.383860Z"
    }
   },
   "cell_type": "code",
   "source": "print(data_nll(Xte, Yte, model))",
   "id": "d283ee245d4c938a",
   "outputs": [
    {
     "data": {
      "text/plain": [
       "0.06949584931135178"
      ]
     },
     "execution_count": 15,
     "metadata": {},
     "output_type": "execute_result"
    }
   ],
   "execution_count": 15
  },
  {
   "metadata": {
    "ExecuteTime": {
     "end_time": "2025-09-19T16:09:13.367477Z",
     "start_time": "2025-09-19T16:09:13.364587Z"
    }
   },
   "cell_type": "code",
   "source": [
    "percentage_correct = (len(test_labels) - len(wrong)) / len(test_labels) * 100\n",
    "print(f'{percentage_correct:.2f}%')"
   ],
   "id": "ab1dbf4ace849e48",
   "outputs": [
    {
     "name": "stdout",
     "output_type": "stream",
     "text": [
      "98.17%\n"
     ]
    }
   ],
   "execution_count": 16
  },
  {
   "metadata": {},
   "cell_type": "markdown",
   "source": [
    "Final Test Loss: 0.069495\n",
    "\n",
    "Percentage Correct: 98.17%"
   ],
   "id": "7961f7c0e372f593"
  }
 ],
 "metadata": {
  "kernelspec": {
   "display_name": "Python 3",
   "language": "python",
   "name": "python3"
  },
  "language_info": {
   "codemirror_mode": {
    "name": "ipython",
    "version": 2
   },
   "file_extension": ".py",
   "mimetype": "text/x-python",
   "name": "python",
   "nbconvert_exporter": "python",
   "pygments_lexer": "ipython2",
   "version": "2.7.6"
  }
 },
 "nbformat": 4,
 "nbformat_minor": 5
}
